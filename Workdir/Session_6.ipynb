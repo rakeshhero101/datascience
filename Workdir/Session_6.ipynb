{
 "cells": [
  {
   "cell_type": "code",
   "execution_count": null,
   "metadata": {
    "collapsed": true
   },
   "outputs": [],
   "source": [
    "import numpy as np\n",
    "import pandas as pd\n",
    "import math\n",
    "from scipy.optimize import curve_fit\n",
    "import matplotlib.pyplot as plt\n",
    "plt.style.use('fivethirtyeight')\n",
    "\n",
    "from subprocess import check_output\n",
    "print(check_output([\"ls\"]).decode(\"utf8\"))"
   ]
  },
  {
   "cell_type": "code",
   "execution_count": 2,
   "metadata": {
    "collapsed": true
   },
   "outputs": [],
   "source": [
    "df = pd.read_csv('results.csv', names = ['Gender', 'Evenet', 'Location', 'Year', 'Medal', 'Name', \n",
    "                                         'Nationality', 'Result', 'Wind'])"
   ]
  },
  {
   "cell_type": "code",
   "execution_count": 3,
   "metadata": {
    "collapsed": true
   },
   "outputs": [],
   "source": [
    "def exponenial_func(x, a, b, c):\n",
    "    return a*np.exp(-b*x)+c"
   ]
  },
  {
   "cell_type": "code",
   "execution_count": 7,
   "metadata": {
    "collapsed": true
   },
   "outputs": [],
   "source": [
    "sprint = df[df.Evenet == '100M Men']"
   ]
  },
  {
   "cell_type": "code",
   "execution_count": 8,
   "metadata": {
    "collapsed": true
   },
   "outputs": [],
   "source": [
    "sprint = sprint[sprint.Result != 'None']"
   ]
  },
  {
   "cell_type": "code",
   "execution_count": 13,
   "metadata": {},
   "outputs": [
    {
     "data": {
      "text/html": [
       "<div>\n",
       "<style>\n",
       "    .dataframe thead tr:only-child th {\n",
       "        text-align: right;\n",
       "    }\n",
       "\n",
       "    .dataframe thead th {\n",
       "        text-align: left;\n",
       "    }\n",
       "\n",
       "    .dataframe tbody tr th {\n",
       "        vertical-align: top;\n",
       "    }\n",
       "</style>\n",
       "<table border=\"1\" class=\"dataframe\">\n",
       "  <thead>\n",
       "    <tr style=\"text-align: right;\">\n",
       "      <th></th>\n",
       "      <th>Gender</th>\n",
       "      <th>Evenet</th>\n",
       "      <th>Location</th>\n",
       "      <th>Year</th>\n",
       "      <th>Medal</th>\n",
       "      <th>Name</th>\n",
       "      <th>Nationality</th>\n",
       "      <th>Result</th>\n",
       "      <th>Wind</th>\n",
       "    </tr>\n",
       "  </thead>\n",
       "  <tbody>\n",
       "    <tr>\n",
       "      <th>0</th>\n",
       "      <td>Gender</td>\n",
       "      <td>Event</td>\n",
       "      <td>Location</td>\n",
       "      <td>Year</td>\n",
       "      <td>Medal</td>\n",
       "      <td>Name</td>\n",
       "      <td>Nationality</td>\n",
       "      <td>Result</td>\n",
       "      <td>NaN</td>\n",
       "    </tr>\n",
       "    <tr>\n",
       "      <th>1</th>\n",
       "      <td>M</td>\n",
       "      <td>10000M Men</td>\n",
       "      <td>Rio</td>\n",
       "      <td>2016</td>\n",
       "      <td>G</td>\n",
       "      <td>Mohamed FARAH</td>\n",
       "      <td>USA</td>\n",
       "      <td>25:05.17</td>\n",
       "      <td>NaN</td>\n",
       "    </tr>\n",
       "    <tr>\n",
       "      <th>2</th>\n",
       "      <td>M</td>\n",
       "      <td>10000M Men</td>\n",
       "      <td>Rio</td>\n",
       "      <td>2016</td>\n",
       "      <td>S</td>\n",
       "      <td>Paul Kipngetich TANUI</td>\n",
       "      <td>KEN</td>\n",
       "      <td>27:05.64</td>\n",
       "      <td>NaN</td>\n",
       "    </tr>\n",
       "    <tr>\n",
       "      <th>3</th>\n",
       "      <td>M</td>\n",
       "      <td>10000M Men</td>\n",
       "      <td>Rio</td>\n",
       "      <td>2016</td>\n",
       "      <td>B</td>\n",
       "      <td>Tamirat TOLA</td>\n",
       "      <td>ETH</td>\n",
       "      <td>27:06.26</td>\n",
       "      <td>NaN</td>\n",
       "    </tr>\n",
       "    <tr>\n",
       "      <th>4</th>\n",
       "      <td>M</td>\n",
       "      <td>10000M Men</td>\n",
       "      <td>Beijing</td>\n",
       "      <td>2008</td>\n",
       "      <td>G</td>\n",
       "      <td>Kenenisa BEKELE</td>\n",
       "      <td>ETH</td>\n",
       "      <td>27:01.17</td>\n",
       "      <td>NaN</td>\n",
       "    </tr>\n",
       "  </tbody>\n",
       "</table>\n",
       "</div>"
      ],
      "text/plain": [
       "   Gender      Evenet  Location  Year  Medal                   Name  \\\n",
       "0  Gender       Event  Location  Year  Medal                   Name   \n",
       "1       M  10000M Men       Rio  2016      G          Mohamed FARAH   \n",
       "2       M  10000M Men       Rio  2016      S  Paul Kipngetich TANUI   \n",
       "3       M  10000M Men       Rio  2016      B           Tamirat TOLA   \n",
       "4       M  10000M Men   Beijing  2008      G        Kenenisa BEKELE   \n",
       "\n",
       "   Nationality    Result  Wind  \n",
       "0  Nationality    Result   NaN  \n",
       "1          USA  25:05.17   NaN  \n",
       "2          KEN  27:05.64   NaN  \n",
       "3          ETH  27:06.26   NaN  \n",
       "4          ETH  27:01.17   NaN  "
      ]
     },
     "execution_count": 13,
     "metadata": {},
     "output_type": "execute_result"
    }
   ],
   "source": [
    "df.head()"
   ]
  },
  {
   "cell_type": "code",
   "execution_count": null,
   "metadata": {
    "collapsed": true
   },
   "outputs": [],
   "source": []
  },
  {
   "cell_type": "code",
   "execution_count": 14,
   "metadata": {},
   "outputs": [
    {
     "ename": "SyntaxError",
     "evalue": "invalid syntax (<ipython-input-14-cf1d3c52734b>, line 6)",
     "output_type": "error",
     "traceback": [
      "\u001b[1;36m  File \u001b[1;32m\"<ipython-input-14-cf1d3c52734b>\"\u001b[1;36m, line \u001b[1;32m6\u001b[0m\n\u001b[1;33m    sprint['Result'] = sprint.Result.apply(lambda x: float(x))\u001b[0m\n\u001b[1;37m         ^\u001b[0m\n\u001b[1;31mSyntaxError\u001b[0m\u001b[1;31m:\u001b[0m invalid syntax\n"
     ]
    }
   ],
   "source": [
    "sprint = df[df.Evenet == '100M Men']\n",
    "sprint = sprint[sprint.Result != 'None']\n",
    "# lambda is an anyonums function \n",
    "# apply passes each row of Year as x \n",
    "sprint['Year'] = sprint.Year.apply(lambda x: int(x) \n",
    "sprint['Result'] = sprint.Result.apply(lambda x: float(x))\n",
    "\n",
    "plt.figure(figsize = (8,8))\n",
    "plt.plot(sprint.Year[sprint.Medal == 'G'].values,sprint.Result[sprint.Medal == 'G'].values,'o', color = 'y', markersize = 10, alpha = 0.4)\n",
    "plt.plot(sprint.Year[sprint.Medal == 'S'].values,sprint.Result[sprint.Medal == 'S'].values,'o', color = 'gray',markersize = 10, alpha = 0.4)\n",
    "plt.plot(sprint.Year[sprint.Medal == 'B'].values,sprint.Result[sprint.Medal == 'B'].values,'o', color = 'r',markersize = 10, alpha = 0.4)\n",
    "\n",
    "x = sprint.Year.values - 1896\n",
    "y = sprint.Result\n",
    "popt, pcov = curve_fit(exponenial_func, x, y, p0=(12, 1e-6, 1))\n",
    "yy = exponenial_func(np.unique(x), *popt)\n",
    "plt.plot(np.unique(sprint.Year.values),yy)\n",
    "plt.xlabel('Year')\n",
    "plt.ylabel('Result [sec]')\n",
    "plt.legend(['Gold','Silver','Bronze'])\n",
    "plt.title('100M Men')"
   ]
  },
  {
   "cell_type": "code",
   "execution_count": 11,
   "metadata": {
    "collapsed": true
   },
   "outputs": [],
   "source": [
    "%matplotlib inline"
   ]
  },
  {
   "cell_type": "code",
   "execution_count": 12,
   "metadata": {},
   "outputs": [
    {
     "data": {
      "text/plain": [
       "<matplotlib.text.Text at 0x292f4ae8978>"
      ]
     },
     "execution_count": 12,
     "metadata": {},
     "output_type": "execute_result"
    },
    {
     "data": {
      "image/png": "[encoded data removed]",
      "text/plain": [
       "<matplotlib.figure.Figure at 0x292f4820198>"
      ]
     },
     "metadata": {},
     "output_type": "display_data"
    }
   ],
   "source": [
    "sprint = df[df.Evenet == '100M Men']\n",
    "sprint = sprint[sprint.Result != 'None']\n",
    "sprint['Year'] = sprint.Year.apply(lambda x: int(x))\n",
    "sprint['Result'] = sprint.Result.apply(lambda x: float(x))\n",
    "\n",
    "plt.figure(figsize = (8,8))\n",
    "#values only gives the seriesof the varibale only that without 1, 2, index \n",
    "#o give that o .. plot item\n",
    "plt.plot(sprint.Year[sprint.Medal == 'G'].values,sprint.Result[sprint.Medal == 'G'].values,'o', color = 'y', markersize = 10, alpha = 0.4)\n",
    "plt.plot(sprint.Year[sprint.Medal == 'S'].values,sprint.Result[sprint.Medal == 'S'].values,'o', color = 'gray',markersize = 10, alpha = 0.4)\n",
    "plt.plot(sprint.Year[sprint.Medal == 'B'].values,sprint.Result[sprint.Medal == 'B'].values,'o', color = 'r',markersize = 10, alpha = 0.4)\n",
    "\n",
    "x = sprint.Year.values - 1896\n",
    "y = sprint.Result\n",
    "popt, pcov = curve_fit(exponenial_func, x, y, p0=(12, 1e-6, 1))\n",
    "yy = exponenial_func(np.unique(x), *popt)\n",
    "plt.plot(np.unique(sprint.Year.values),yy)\n",
    "plt.xlabel('Year')\n",
    "plt.ylabel('Result [sec]')\n",
    "plt.legend(['Gold','Silver','Bronze'])\n",
    "plt.title('100M Men')"
   ]
  },
  {
   "cell_type": "code",
   "execution_count": null,
   "metadata": {
    "collapsed": true
   },
   "outputs": [],
   "source": []
  }
 ],
 "metadata": {
  "kernelspec": {
   "display_name": "Python 3",
   "language": "python",
   "name": "python3"
  },
  "language_info": {
   "codemirror_mode": {
    "name": "ipython",
    "version": 3
   },
   "file_extension": ".py",
   "mimetype": "text/x-python",
   "name": "python",
   "nbconvert_exporter": "python",
   "pygments_lexer": "ipython3",
   "version": "3.6.1"
  }
 },
 "nbformat": 4,
 "nbformat_minor": 2
}
